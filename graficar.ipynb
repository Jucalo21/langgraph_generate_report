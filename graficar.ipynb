{
 "cells": [
  {
   "cell_type": "code",
   "execution_count": 4,
   "metadata": {},
   "outputs": [],
   "source": [
    "from langgraph.graph import StateGraph, END, START\n",
    "from typing import List, TypedDict\n",
    "def create_queries():\n",
    "    pass\n",
    "\n",
    "def investigate_queries():\n",
    "    pass\n",
    "\n",
    "def create_text():\n",
    "    pass\n",
    "\n",
    "def create_document():\n",
    "    pass\n",
    "\n",
    "class InformationResearcher(TypedDict):\n",
    "    theme: str\n",
    "    queries: List[str]\n",
    "    info_documento: str\n",
    "\n",
    "\n",
    "graph_builder = StateGraph(InformationResearcher)\n",
    "graph_builder.add_node(\"create_queries\", create_queries)\n",
    "graph_builder.add_node(\"investigate_queries\", investigate_queries)\n",
    "graph_builder.add_node(\"create_text\", create_text)\n",
    "graph_builder.add_node(\"create_document\", create_document)\n",
    "\n",
    "graph_builder.add_edge(START, \"create_queries\")\n",
    "graph_builder.add_edge(\"create_queries\", \"investigate_queries\")\n",
    "graph_builder.add_edge(\"investigate_queries\", \"create_text\")\n",
    "graph_builder.add_edge(\"create_text\", \"create_document\")\n",
    "graph_builder.add_edge(\"create_document\", END)\n",
    "\n",
    "graph= graph_builder.compile()\n",
    "\n",
    "image_bytes = graph.get_graph().draw_mermaid_png()\n",
    "with open(\"grafo.png\", \"wb\") as f:\n",
    "    f.write(image_bytes)"
   ]
  },
  {
   "cell_type": "code",
   "execution_count": null,
   "metadata": {},
   "outputs": [],
   "source": []
  }
 ],
 "metadata": {
  "kernelspec": {
   "display_name": "langgraph",
   "language": "python",
   "name": "python3"
  },
  "language_info": {
   "codemirror_mode": {
    "name": "ipython",
    "version": 3
   },
   "file_extension": ".py",
   "mimetype": "text/x-python",
   "name": "python",
   "nbconvert_exporter": "python",
   "pygments_lexer": "ipython3",
   "version": "3.13.2"
  }
 },
 "nbformat": 4,
 "nbformat_minor": 2
}
